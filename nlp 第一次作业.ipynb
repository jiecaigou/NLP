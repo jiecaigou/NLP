{
 "cells": [
  {
   "cell_type": "code",
   "execution_count": 17,
   "metadata": {},
   "outputs": [],
   "source": [
    "hello_rules = '''\n",
    "say_hello = name hello\n",
    "names = name names | name\n",
    "name = Jonh|Mike|老梁|老刘\n",
    "hello = 你好|您来啦|快请进\n",
    "tail = 呀|！\n",
    "'''"
   ]
  },
  {
   "cell_type": "code",
   "execution_count": 2,
   "metadata": {},
   "outputs": [],
   "source": [
    "import random"
   ]
  },
  {
   "cell_type": "code",
   "execution_count": 6,
   "metadata": {},
   "outputs": [],
   "source": [
    "def name():\n",
    "    return random.choice('Jonh|Mike|老梁'.split('|'))\n",
    "\n",
    "def hello():\n",
    "    return random.choice('你好|您来啦|快请进'.split('|'))\n",
    "\n",
    "def say_hello():\n",
    "    return name()+' '+hello()"
   ]
  },
  {
   "cell_type": "code",
   "execution_count": 7,
   "metadata": {},
   "outputs": [
    {
     "data": {
      "text/plain": [
       "'Mike 您来啦'"
      ]
     },
     "execution_count": 7,
     "metadata": {},
     "output_type": "execute_result"
    }
   ],
   "source": [
    "say_hello()"
   ]
  },
  {
   "cell_type": "code",
   "execution_count": 23,
   "metadata": {},
   "outputs": [],
   "source": [
    "stmt_split = '='\n",
    "or_split = '|'\n",
    "rules = dict()\n",
    "for line in hello_rules.split('\\n'):\n",
    "    if not line: continue\n",
    "    \n",
    "    stmt, expr = line.split(stmt_split)\n",
    "    \n",
    "    rules[stmt.strip()] = expr.split(or_split)"
   ]
  },
  {
   "cell_type": "code",
   "execution_count": 21,
   "metadata": {},
   "outputs": [
    {
     "data": {
      "text/plain": [
       "{'say_hello': [' name hello'],\n",
       " 'names': [' name names ', ' name'],\n",
       " 'name': [' Jonh', 'Mike', '老梁', '老刘'],\n",
       " 'hello': [' 你好', '您来啦', '快请进'],\n",
       " 'tail': [' 呀', '！']}"
      ]
     },
     "execution_count": 21,
     "metadata": {},
     "output_type": "execute_result"
    }
   ],
   "source": [
    "rules"
   ]
  },
  {
   "cell_type": "code",
   "execution_count": 68,
   "metadata": {},
   "outputs": [],
   "source": [
    "def generate(grammer_rule, target):\n",
    "    if target in grammer_rule:\n",
    "        candidates = grammer_rule[target]\n",
    "        candidate = random.choice(candidates).strip()\n",
    "        candidate = candidate.split(' ')\n",
    "        return ' '.join(generate(grammer_rule, target = c.strip()) for c in candidate if c != 'null')\n",
    "    else: \n",
    "        return target"
   ]
  },
  {
   "cell_type": "code",
   "execution_count": 39,
   "metadata": {},
   "outputs": [
    {
     "data": {
      "text/plain": [
       "'老梁 你好'"
      ]
     },
     "execution_count": 39,
     "metadata": {},
     "output_type": "execute_result"
    }
   ],
   "source": [
    "generate(rules, 'say_hello')"
   ]
  },
  {
   "cell_type": "code",
   "execution_count": 69,
   "metadata": {},
   "outputs": [],
   "source": [
    "def get_generation_by_gram(grammer_str, target, stmt_split='=', expr_split='|'):\n",
    "    rules = dict()\n",
    "    for line in grammer_str.split('\\n'):\n",
    "        if not line: continue\n",
    "        stmt, expr = line.split(stmt_split)\n",
    "        rules[stmt.strip()] = expr.strip().split(expr_split)\n",
    "    return generate(rules, target)"
   ]
  },
  {
   "cell_type": "code",
   "execution_count": 70,
   "metadata": {},
   "outputs": [
    {
     "data": {
      "text/plain": [
       "'Jonh 您来啦'"
      ]
     },
     "execution_count": 70,
     "metadata": {},
     "output_type": "execute_result"
    }
   ],
   "source": [
    "get_generation_by_gram(hello_rules, 'say_hello')"
   ]
  },
  {
   "cell_type": "code",
   "execution_count": 71,
   "metadata": {},
   "outputs": [
    {
     "data": {
      "text/plain": [
       "['',\n",
       " 'say_hello = name hello',\n",
       " 'names = name names | name',\n",
       " 'name = Jonh|Mike|老梁|老刘',\n",
       " 'hello = 你好|您来啦|快请进',\n",
       " 'tail = 呀|！',\n",
       " '']"
      ]
     },
     "execution_count": 71,
     "metadata": {},
     "output_type": "execute_result"
    }
   ],
   "source": [
    "hello_rules.split('\\n')"
   ]
  },
  {
   "cell_type": "code",
   "execution_count": 54,
   "metadata": {},
   "outputs": [],
   "source": [
    "simple_grammar = \"\"\"\n",
    "sentence => noun_phrase verb_phrase\n",
    "noun_phrase => Article Adj* noun\n",
    "Adj* => null | Adj Adj*\n",
    "verb_phrase => verb noun_phrase\n",
    "Article =>  一个 | 这个\n",
    "noun =>   女人 |  篮球 | 桌子 | 小猫\n",
    "verb => 看着   |  坐在 |  听着 | 看见\n",
    "Adj =>  蓝色的 | 好看的 | 小小的\n",
    "\"\"\""
   ]
  },
  {
   "cell_type": "code",
   "execution_count": 58,
   "metadata": {},
   "outputs": [
    {
     "data": {
      "text/plain": [
       "'一个 小小的  桌子 坐在 这个 好看的 蓝色的  篮球'"
      ]
     },
     "execution_count": 58,
     "metadata": {},
     "output_type": "execute_result"
    }
   ],
   "source": [
    "get_generation_by_gram(simple_grammar, 'sentence', '=>')"
   ]
  },
  {
   "cell_type": "code",
   "execution_count": 72,
   "metadata": {},
   "outputs": [],
   "source": [
    "programming = \"\"\"\n",
    "stmt => if_exp | while_exp | assignment \n",
    "assignment => var = var\n",
    "if_exp => if ( var ) { /n .... stmt }\n",
    "while_exp=> while ( var ) { /n .... stmt }\n",
    "var => chars number\n",
    "chars => char | char char\n",
    "char => student | name | info  | database | course\n",
    "number => 1 | 2 | 3\n",
    "\"\"\""
   ]
  },
  {
   "cell_type": "code",
   "execution_count": 75,
   "metadata": {},
   "outputs": [
    {
     "data": {
      "text/plain": [
       "'if ( database 1 ) { /n .... if ( database 3 ) { /n .... student database 3 = student course 1 } }'"
      ]
     },
     "execution_count": 75,
     "metadata": {},
     "output_type": "execute_result"
    }
   ],
   "source": [
    "get_generation_by_gram(programming, 'stmt', '=>')"
   ]
  },
  {
   "cell_type": "code",
   "execution_count": 76,
   "metadata": {},
   "outputs": [],
   "source": [
    "corpus = r'C:\\迅雷下载\\article_9k.txt'"
   ]
  },
  {
   "cell_type": "code",
   "execution_count": 80,
   "metadata": {},
   "outputs": [],
   "source": [
    "FILE = open(corpus, encoding='utf-8').read()"
   ]
  },
  {
   "cell_type": "code",
   "execution_count": 82,
   "metadata": {},
   "outputs": [],
   "source": [
    "def generate_by_pro(text_corpus, length):\n",
    "    return ''.join(random.sample(text_corpus,length))"
   ]
  },
  {
   "cell_type": "code",
   "execution_count": 83,
   "metadata": {},
   "outputs": [
    {
     "data": {
      "text/plain": [
       "'和鲜春贸午开协低一标'"
      ]
     },
     "execution_count": 83,
     "metadata": {},
     "output_type": "execute_result"
    }
   ],
   "source": [
    "generate_by_pro(FILE, 10)"
   ]
  },
  {
   "cell_type": "code",
   "execution_count": 84,
   "metadata": {},
   "outputs": [],
   "source": [
    "import jieba"
   ]
  },
  {
   "cell_type": "code",
   "execution_count": 85,
   "metadata": {},
   "outputs": [],
   "source": [
    "max_lenght = 1000000\n",
    "sub_file = FILE[:max_lenght]"
   ]
  },
  {
   "cell_type": "code",
   "execution_count": 86,
   "metadata": {},
   "outputs": [],
   "source": [
    "def cut(string):\n",
    "    return list(jieba.cut(string))"
   ]
  },
  {
   "cell_type": "code",
   "execution_count": 87,
   "metadata": {},
   "outputs": [
    {
     "name": "stderr",
     "output_type": "stream",
     "text": [
      "Building prefix dict from the default dictionary ...\n",
      "Dumping model to file cache C:\\Users\\Daddy\\AppData\\Local\\Temp\\jieba.cache\n",
      "Loading model cost 0.893 seconds.\n",
      "Prefix dict has been built succesfully.\n"
     ]
    }
   ],
   "source": [
    "TOKENS = cut(sub_file)"
   ]
  },
  {
   "cell_type": "code",
   "execution_count": 88,
   "metadata": {},
   "outputs": [
    {
     "data": {
      "text/plain": [
       "532454"
      ]
     },
     "execution_count": 88,
     "metadata": {},
     "output_type": "execute_result"
    }
   ],
   "source": [
    "len(TOKENS)"
   ]
  },
  {
   "cell_type": "code",
   "execution_count": 89,
   "metadata": {},
   "outputs": [],
   "source": [
    "import collections"
   ]
  },
  {
   "cell_type": "code",
   "execution_count": 90,
   "metadata": {},
   "outputs": [],
   "source": [
    "% matplotlib inline"
   ]
  },
  {
   "cell_type": "code",
   "execution_count": 91,
   "metadata": {},
   "outputs": [],
   "source": [
    "from collections import Counter\n",
    "words_count  = Counter(TOKENS)"
   ]
  },
  {
   "cell_type": "code",
   "execution_count": 93,
   "metadata": {},
   "outputs": [],
   "source": [
    "words_freq = [f for w, f in words_count.most_common()]"
   ]
  },
  {
   "cell_type": "code",
   "execution_count": 94,
   "metadata": {},
   "outputs": [],
   "source": [
    "import matplotlib.pyplot as plt"
   ]
  },
  {
   "cell_type": "code",
   "execution_count": 96,
   "metadata": {},
   "outputs": [],
   "source": [
    "import numpy as np"
   ]
  },
  {
   "cell_type": "code",
   "execution_count": 97,
   "metadata": {},
   "outputs": [
    {
     "data": {
      "text/plain": [
       "[<matplotlib.lines.Line2D at 0x1718d2f2048>]"
      ]
     },
     "execution_count": 97,
     "metadata": {},
     "output_type": "execute_result"
    },
    {
     "data": {
      "image/png": "[encoded data removed]",
      "text/plain": [
       "<Figure size 432x288 with 1 Axes>"
      ]
     },
     "metadata": {
      "needs_background": "light"
     },
     "output_type": "display_data"
    }
   ],
   "source": [
    "plt.plot(np.log(words_freq))"
   ]
  },
  {
   "cell_type": "code",
   "execution_count": 99,
   "metadata": {},
   "outputs": [],
   "source": [
    "_2_gram_words = [\n",
    "    TOKENS[i] + TOKENS[i+1] for i in range(len(TOKENS)-1)\n",
    "]"
   ]
  },
  {
   "cell_type": "code",
   "execution_count": 104,
   "metadata": {},
   "outputs": [],
   "source": [
    "_2_gram_word_counts = Counter(_2_gram_words)"
   ]
  },
  {
   "cell_type": "code",
   "execution_count": 101,
   "metadata": {},
   "outputs": [
    {
     "data": {
      "text/plain": [
       "['此外自', '自本周', '本周6', '6月', '月12', '12日起', '日起除', '除小米', '小米手机', '手机6']"
      ]
     },
     "execution_count": 101,
     "metadata": {},
     "output_type": "execute_result"
    }
   ],
   "source": [
    "_2_gram_words[:10]"
   ]
  },
  {
   "cell_type": "code",
   "execution_count": 108,
   "metadata": {},
   "outputs": [],
   "source": [
    "def get_1_gram_count(word):\n",
    "    if word in words_count: return words_count[word]\n",
    "    else:\n",
    "         return words_count.most_common()[-1][-1]"
   ]
  },
  {
   "cell_type": "code",
   "execution_count": 109,
   "metadata": {},
   "outputs": [],
   "source": [
    "def get_2_gram_count(word):\n",
    "    if word in _2_gram_word_counts: return _2_gram_word_counts[word]\n",
    "    else:\n",
    "         return _2_gram_word_counts.most_common()[-1][-1]"
   ]
  },
  {
   "cell_type": "code",
   "execution_count": 110,
   "metadata": {},
   "outputs": [],
   "source": [
    "def _2_gram_model(sentence):\n",
    "    tokens = cut(sentence)\n",
    "    \n",
    "    probability = 1\n",
    "    for i in range(len(tokens)-1):\n",
    "        word = tokens[i]\n",
    "        next_word = tokens[i+1]\n",
    "        \n",
    "        pro = get_2_gram_count(word + next_word) / get_1_gram_count(next_word)\n",
    "        \n",
    "        probability *= pro\n",
    "        \n",
    "    return probability"
   ]
  },
  {
   "cell_type": "code",
   "execution_count": 115,
   "metadata": {},
   "outputs": [
    {
     "data": {
      "text/plain": [
       "7.429922323539344e-07"
      ]
     },
     "execution_count": 115,
     "metadata": {},
     "output_type": "execute_result"
    }
   ],
   "source": [
    "_2_gram_model('前天早上吃晚饭的时候')"
   ]
  },
  {
   "cell_type": "code",
   "execution_count": 35,
   "metadata": {},
   "outputs": [],
   "source": [
    "host = \"\"\"\n",
    "host = 寒暄 报数 询问 业务相关 结尾 \n",
    "报数 = 我是 数字 号 ,\n",
    "数字 = 单个数字 | 数字 单个数字 \n",
    "单个数字 = 1 | 2 | 3 | 4 | 5 | 6 | 7 | 8 | 9 \n",
    "寒暄 = 称谓 打招呼 | 打招呼\n",
    "称谓 = 人称 ,\n",
    "人称 = 先生 | 女士 | 小朋友\n",
    "打招呼 = 你好 | 您好 \n",
    "询问 = 请问你要 | 您需要\n",
    "业务相关 = 玩玩 具体业务\n",
    "玩玩 = 来一场 | 玩一玩\n",
    "具体业务 = 喝酒 | 打牌 | 打猎 | 赌博\n",
    "结尾 = 吗？\"\"\""
   ]
  },
  {
   "cell_type": "code",
   "execution_count": 2,
   "metadata": {},
   "outputs": [],
   "source": [
    "import random"
   ]
  },
  {
   "cell_type": "code",
   "execution_count": 16,
   "metadata": {},
   "outputs": [],
   "source": [
    "def create_rules(rule_str, line_split='\\n', stmt_split='=', expr_split='|'):\n",
    "    rules = dict()\n",
    "    for line in rule_str.split(line_split):\n",
    "        if not line: continue\n",
    "        stmt, expr = line.split(stmt_split)\n",
    "        rules[stmt.strip()] =[i.strip() for i in expr.split(expr_split)]\n",
    "    return rules"
   ]
  },
  {
   "cell_type": "code",
   "execution_count": 36,
   "metadata": {},
   "outputs": [],
   "source": [
    "rule_1 = create_rules(host)"
   ]
  },
  {
   "cell_type": "code",
   "execution_count": 18,
   "metadata": {},
   "outputs": [
    {
     "data": {
      "text/plain": [
       "True"
      ]
     },
     "execution_count": 18,
     "metadata": {},
     "output_type": "execute_result"
    }
   ],
   "source": [
    "'寒暄' in rule"
   ]
  },
  {
   "cell_type": "code",
   "execution_count": 23,
   "metadata": {},
   "outputs": [
    {
     "data": {
      "text/plain": [
       "{'host': ['寒暄 报数 询问 业务相关 结尾'],\n",
       " '报数': ['我是 数字 号 ,'],\n",
       " '数字': ['单个数字', '数字 单个数字'],\n",
       " '单个数字': ['1', '2', '3', '4', '5', '6', '7', '8', '9'],\n",
       " '寒暄': ['称谓 打招呼', '打招呼'],\n",
       " '称谓': ['人称 ,'],\n",
       " '人称': ['先生', '女士', '小朋友'],\n",
       " '打招呼': ['你好', '您好'],\n",
       " '询问': ['请问你要', '您需要'],\n",
       " '业务相关': ['玩玩 具体业务'],\n",
       " '玩玩': ['耍一耍', '玩一玩'],\n",
       " '具体业务': ['喝酒', '打牌', '打猎', '赌博'],\n",
       " '结尾': ['吗？']}"
      ]
     },
     "execution_count": 23,
     "metadata": {},
     "output_type": "execute_result"
    }
   ],
   "source": [
    "rule"
   ]
  },
  {
   "cell_type": "code",
   "execution_count": 30,
   "metadata": {},
   "outputs": [],
   "source": [
    "def generate(rule_dummy, target):\n",
    "    if target in rule_dummy:\n",
    "        candidates = rule_dummy[target]\n",
    "        candidate = random.choice(candidates)\n",
    "        candidate = candidate.split(' ')\n",
    "        return ''.join(generate(rule_dummy, c) for c in candidate)\n",
    "    return ''.join(target)"
   ]
  },
  {
   "cell_type": "code",
   "execution_count": 39,
   "metadata": {},
   "outputs": [
    {
     "data": {
      "text/plain": [
       "'你好我是993号,请问你要玩一玩喝酒吗？'"
      ]
     },
     "execution_count": 39,
     "metadata": {},
     "output_type": "execute_result"
    }
   ],
   "source": [
    "generate(rule_1, 'host')"
   ]
  },
  {
   "cell_type": "code",
   "execution_count": 40,
   "metadata": {},
   "outputs": [],
   "source": [
    "location = r'C:\\graduate\\freshman1\\nlp\\train.txt'\n",
    "FILE = open(location, encoding='utf-8').read()"
   ]
  },
  {
   "cell_type": "code",
   "execution_count": 42,
   "metadata": {},
   "outputs": [
    {
     "data": {
      "text/plain": [
       "'0 ++$++ disability-insurance ++$++ 法律要求残疾保险吗？ ++$++ Is  Disability  Insurance  Required  By  Law?\\n1 '"
      ]
     },
     "execution_count": 42,
     "metadata": {},
     "output_type": "execute_result"
    }
   ],
   "source": [
    "FILE[:100]"
   ]
  },
  {
   "cell_type": "code",
   "execution_count": 43,
   "metadata": {},
   "outputs": [],
   "source": [
    "import re"
   ]
  },
  {
   "cell_type": "code",
   "execution_count": 159,
   "metadata": {},
   "outputs": [],
   "source": [
    "pattern = re.compile('[\\u4e00-\\u9fa5]+')\n",
    "result1 = pattern.findall('$ runoob+ 123 google 456 郭奕42?？')"
   ]
  },
  {
   "cell_type": "code",
   "execution_count": 160,
   "metadata": {},
   "outputs": [
    {
     "data": {
      "text/plain": [
       "['郭奕']"
      ]
     },
     "execution_count": 160,
     "metadata": {},
     "output_type": "execute_result"
    }
   ],
   "source": [
    "result1"
   ]
  },
  {
   "cell_type": "code",
   "execution_count": 102,
   "metadata": {},
   "outputs": [],
   "source": [
    "it = re.finditer(pattern,FILE, flags=0)"
   ]
  },
  {
   "cell_type": "code",
   "execution_count": 103,
   "metadata": {},
   "outputs": [],
   "source": [
    "st = ''\n",
    "for i in it:\n",
    "    st += i.group()"
   ]
  },
  {
   "cell_type": "code",
   "execution_count": 104,
   "metadata": {},
   "outputs": [
    {
     "name": "stdout",
     "output_type": "stream",
     "text": [
      "法律要求残疾保险吗债权人可以在死后人寿保险吗旅行者保险有租赁保险吗我可以开一辆没有保险的新车吗人寿保险的现金转出价值是否应纳税如何报告年金收入家庭保险涵盖什么什么是简单的退休计划社会保险残疾保险是什么汽车保险是否预付医疗保险部分盖什么退伍军人能否获得人寿保险我的房主保险是否包括失去的结婚戒指分配风险汽车保险如何工作我的男朋友可以加我的汽车保险吗我是否需要提交私人财产车祸索赔的警察报告全覆盖汽车保险盖修理人生在伊斯兰教中是否可以接受健康保险是否覆盖管道逆转如果您已经诊断为乳腺癌您可以获得多大的人寿保险我需要注册医疗保险短期残疾保险是否工作房主保险盖池什么时候要注册医疗保险会影响我的汽车保险吗蓝十字蓝盾有人寿保险吗长期护理保险的优点和缺点是什么医疗保险支付生命预警我应该买哪种人寿医疗保险支付筛查吗哪个是最好的人寿保险长期护理保险费用多少固定年金如何安全要解决人寿保险索赔需要多长时间是否检查汽车保险信贷我可以使用支付长期护理保险吗雇主可以向吸烟者收取更多健康保险费吗房屋所有权保险通常覆盖什么没有健康保险的超声波成本是多少什么是年期人寿保险你可以把钱放在一个和一个我可以用丙型肝炎保险吗什么时候\n"
     ]
    }
   ],
   "source": [
    "print(st[:500])"
   ]
  },
  {
   "cell_type": "code",
   "execution_count": 105,
   "metadata": {},
   "outputs": [],
   "source": [
    "import jieba"
   ]
  },
  {
   "cell_type": "code",
   "execution_count": 123,
   "metadata": {},
   "outputs": [],
   "source": [
    "token = list(jieba.cut(st))"
   ]
  },
  {
   "cell_type": "code",
   "execution_count": 113,
   "metadata": {},
   "outputs": [],
   "source": [
    "from collections import Counter"
   ]
  },
  {
   "cell_type": "code",
   "execution_count": 124,
   "metadata": {},
   "outputs": [],
   "source": [
    "ct = Counter(token)"
   ]
  },
  {
   "cell_type": "code",
   "execution_count": 125,
   "metadata": {},
   "outputs": [
    {
     "data": {
      "text/plain": [
       "('妻子', 12)"
      ]
     },
     "execution_count": 125,
     "metadata": {},
     "output_type": "execute_result"
    }
   ],
   "source": [
    "ct.most_common()[500]"
   ]
  },
  {
   "cell_type": "code",
   "execution_count": 129,
   "metadata": {},
   "outputs": [],
   "source": [
    "def get_1_word_count(word):\n",
    "    if word in ct:\n",
    "        return ct[word]\n",
    "    return ct.most_common()[-1][1]"
   ]
  },
  {
   "cell_type": "code",
   "execution_count": 132,
   "metadata": {},
   "outputs": [],
   "source": [
    "_2_gram_words = [token[i]+token[i+1] for i in range(len(token)-1)]\n",
    "ct_2 = Counter(_2_gram_words)"
   ]
  },
  {
   "cell_type": "code",
   "execution_count": 133,
   "metadata": {},
   "outputs": [],
   "source": [
    "def get_2_word_count(word):\n",
    "    if word in _2_gram_words:\n",
    "        return ct_2[word]\n",
    "    return ct_2.most_common()[-1][1]"
   ]
  },
  {
   "cell_type": "code",
   "execution_count": 134,
   "metadata": {},
   "outputs": [],
   "source": [
    "def n_gram_model(txt):\n",
    "    probability = 1\n",
    "    tokens = list(jieba.cut(txt))\n",
    "    for i in range(len(tokens)-1):\n",
    "        pr = get_2_word_count(tokens[i]+tokens[i+1])/get_1_word_count(tokens[i+1])\n",
    "        probability *= pr\n",
    "        \n",
    "    return probability    "
   ]
  },
  {
   "cell_type": "code",
   "execution_count": 137,
   "metadata": {},
   "outputs": [
    {
     "data": {
      "text/plain": [
       "1.0"
      ]
     },
     "execution_count": 137,
     "metadata": {},
     "output_type": "execute_result"
    }
   ],
   "source": [
    "n_gram_model('哔哩哔哩干杯')"
   ]
  },
  {
   "cell_type": "code",
   "execution_count": 138,
   "metadata": {},
   "outputs": [
    {
     "data": {
      "text/plain": [
       "Counter({'法律要求': 7,\n",
       "         '要求残疾': 1,\n",
       "         '残疾保险': 658,\n",
       "         '保险吗': 511,\n",
       "         '吗债权人': 5,\n",
       "         '债权人可以': 12,\n",
       "         '可以在': 187,\n",
       "         '在死': 1,\n",
       "         '死后': 6,\n",
       "         '后人寿保险': 2,\n",
       "         '人寿保险吗': 312,\n",
       "         '吗旅行者': 2,\n",
       "         '旅行者保险': 1,\n",
       "         '保险有': 67,\n",
       "         '有租赁': 11,\n",
       "         '租赁保险': 154,\n",
       "         '吗我': 210,\n",
       "         '我可以': 530,\n",
       "         '可以开': 4,\n",
       "         '开一辆': 2,\n",
       "         '一辆没有': 4,\n",
       "         '没有保险': 43,\n",
       "         '保险的': 280,\n",
       "         '的新车': 6,\n",
       "         '新车吗': 4,\n",
       "         '吗人寿保险': 117,\n",
       "         '人寿保险的': 134,\n",
       "         '的现金': 26,\n",
       "         '现金转': 1,\n",
       "         '转出': 1,\n",
       "         '出价值': 1,\n",
       "         '价值是否': 3,\n",
       "         '是否应': 35,\n",
       "         '应纳税': 45,\n",
       "         '纳税如何': 4,\n",
       "         '如何报告': 3,\n",
       "         '报告年': 1,\n",
       "         '年金': 427,\n",
       "         '金收入': 6,\n",
       "         '收入家庭': 1,\n",
       "         '家庭保险': 440,\n",
       "         '保险涵盖': 99,\n",
       "         '涵盖什么': 76,\n",
       "         '什么什么': 97,\n",
       "         '什么是': 1152,\n",
       "         '是简单': 1,\n",
       "         '简单的': 2,\n",
       "         '的退休': 41,\n",
       "         '退休计划': 289,\n",
       "         '计划社会保险': 1,\n",
       "         '社会保险残疾': 1,\n",
       "         '保险是': 100,\n",
       "         '是什么': 380,\n",
       "         '什么汽车保险': 29,\n",
       "         '汽车保险是否': 155,\n",
       "         '是否预付': 2,\n",
       "         '预付医疗保险': 1,\n",
       "         '医疗保险部分': 116,\n",
       "         '部分盖': 3,\n",
       "         '盖什么': 5,\n",
       "         '什么退伍军人': 1,\n",
       "         '退伍军人能否': 2,\n",
       "         '能否获得': 16,\n",
       "         '获得人寿保险': 59,\n",
       "         '人寿保险我': 74,\n",
       "         '我的': 726,\n",
       "         '的房主': 124,\n",
       "         '房主保险': 602,\n",
       "         '保险是否': 975,\n",
       "         '是否包括': 51,\n",
       "         '包括失去': 1,\n",
       "         '失去的': 8,\n",
       "         '的结婚戒指': 3,\n",
       "         '结婚戒指分配': 1,\n",
       "         '分配风险': 2,\n",
       "         '风险汽车保险': 2,\n",
       "         '汽车保险如何': 21,\n",
       "         '如何工作': 93,\n",
       "         '工作我': 16,\n",
       "         '的男朋友': 6,\n",
       "         '男朋友可以': 1,\n",
       "         '可以加': 2,\n",
       "         '加我': 2,\n",
       "         '的汽车保险': 240,\n",
       "         '汽车保险吗': 193,\n",
       "         '我是否': 4,\n",
       "         '是否需要': 39,\n",
       "         '需要提交': 2,\n",
       "         '提交私人': 1,\n",
       "         '私人财产': 1,\n",
       "         '财产车祸': 1,\n",
       "         '车祸索赔': 1,\n",
       "         '索赔的': 5,\n",
       "         '的警察': 1,\n",
       "         '警察报告': 1,\n",
       "         '报告全': 1,\n",
       "         '全覆盖': 5,\n",
       "         '覆盖汽车保险': 11,\n",
       "         '汽车保险盖': 10,\n",
       "         '盖修理': 1,\n",
       "         '修理人生': 1,\n",
       "         '人生在': 1,\n",
       "         '在伊斯兰教': 2,\n",
       "         '伊斯兰教中': 2,\n",
       "         '中是否': 1,\n",
       "         '是否可以': 56,\n",
       "         '可以接受': 3,\n",
       "         '接受健康': 2,\n",
       "         '健康保险': 1347,\n",
       "         '是否覆盖': 504,\n",
       "         '覆盖管道': 2,\n",
       "         '管道逆转': 2,\n",
       "         '逆转如果': 1,\n",
       "         '如果您': 14,\n",
       "         '您已经': 1,\n",
       "         '已经诊断': 1,\n",
       "         '诊断为': 1,\n",
       "         '为乳腺癌': 1,\n",
       "         '乳腺癌您': 1,\n",
       "         '您可以': 29,\n",
       "         '可以获得': 146,\n",
       "         '获得多大': 1,\n",
       "         '多大的': 4,\n",
       "         '的人寿保险': 319,\n",
       "         '我需要': 149,\n",
       "         '需要注册': 5,\n",
       "         '注册医疗保险': 31,\n",
       "         '医疗保险短期': 3,\n",
       "         '短期残疾': 75,\n",
       "         '是否工作': 12,\n",
       "         '工作房主': 5,\n",
       "         '保险盖池': 1,\n",
       "         '盖池什么': 1,\n",
       "         '什么时候': 270,\n",
       "         '时候要': 3,\n",
       "         '要注册': 4,\n",
       "         '医疗保险会': 9,\n",
       "         '会影响': 39,\n",
       "         '影响我': 12,\n",
       "         '吗蓝': 2,\n",
       "         '蓝十字': 8,\n",
       "         '十字蓝盾': 6,\n",
       "         '蓝盾有': 1,\n",
       "         '有人寿保险': 37,\n",
       "         '吗长期': 35,\n",
       "         '长期护理': 416,\n",
       "         '护理保险': 367,\n",
       "         '的优点': 8,\n",
       "         '优点和': 6,\n",
       "         '和缺点': 6,\n",
       "         '缺点是': 12,\n",
       "         '什么医疗保险': 36,\n",
       "         '医疗保险支付': 134,\n",
       "         '支付生命': 2,\n",
       "         '生命预警': 1,\n",
       "         '预警我': 1,\n",
       "         '我应该': 173,\n",
       "         '应该买': 40,\n",
       "         '买哪种': 2,\n",
       "         '哪种人寿': 1,\n",
       "         '人寿医疗保险': 1,\n",
       "         '支付筛查': 1,\n",
       "         '筛查吗': 1,\n",
       "         '吗哪个': 23,\n",
       "         '哪个是': 30,\n",
       "         '是最好': 122,\n",
       "         '最好的': 218,\n",
       "         '人寿保险长期': 11,\n",
       "         '护理保险费用': 14,\n",
       "         '保险费用多少': 112,\n",
       "         '多少固定': 4,\n",
       "         '固定年': 38,\n",
       "         '金如何': 78,\n",
       "         '如何安全': 8,\n",
       "         '安全要': 1,\n",
       "         '要解决': 3,\n",
       "         '解决人寿保险': 1,\n",
       "         '人寿保险索赔': 11,\n",
       "         '索赔需要': 11,\n",
       "         '需要多长时间': 61,\n",
       "         '多长时间是否': 1,\n",
       "         '是否检查': 4,\n",
       "         '检查汽车保险': 1,\n",
       "         '汽车保险信贷': 1,\n",
       "         '信贷我': 1,\n",
       "         '可以使用': 16,\n",
       "         '使用支付': 2,\n",
       "         '支付长期': 11,\n",
       "         '吗雇主': 9,\n",
       "         '雇主可以': 9,\n",
       "         '可以向': 3,\n",
       "         '向吸烟者': 1,\n",
       "         '吸烟者收取': 1,\n",
       "         '收取更': 4,\n",
       "         '更多': 8,\n",
       "         '多健康': 1,\n",
       "         '健康保险费': 23,\n",
       "         '保险费吗': 34,\n",
       "         '吗房屋': 6,\n",
       "         '房屋所有权': 1,\n",
       "         '所有权保险': 1,\n",
       "         '保险通常': 19,\n",
       "         '通常覆盖': 7,\n",
       "         '覆盖什么': 36,\n",
       "         '什么没有': 3,\n",
       "         '没有健康': 43,\n",
       "         '的超声波': 1,\n",
       "         '超声波成本': 1,\n",
       "         '成本是': 71,\n",
       "         '是多少': 266,\n",
       "         '多少什么': 69,\n",
       "         '是年期': 5,\n",
       "         '年期人寿保险': 8,\n",
       "         '人寿保险你': 56,\n",
       "         '你可以': 299,\n",
       "         '可以把': 26,\n",
       "         '把钱': 2,\n",
       "         '钱放在': 2,\n",
       "         '放在一个': 1,\n",
       "         '一个和': 1,\n",
       "         '和一个': 2,\n",
       "         '一个我': 1,\n",
       "         '可以用': 46,\n",
       "         '用丙型肝炎': 3,\n",
       "         '丙型肝炎保险': 3,\n",
       "         '吗什么': 317,\n",
       "         '时候可以': 62,\n",
       "         '可以注册': 16,\n",
       "         '部分健康': 3,\n",
       "         '保险何时': 39,\n",
       "         '何时起源': 2,\n",
       "         '起源医疗保险': 1,\n",
       "         '医疗保险有': 4,\n",
       "         '有多': 61,\n",
       "         '多重要': 12,\n",
       "         '重要租用': 1,\n",
       "         '租用保险费用': 1,\n",
       "         '多少我': 48,\n",
       "         '的家庭': 75,\n",
       "         '覆盖盗窃': 6,\n",
       "         '盗窃租户': 1,\n",
       "         '租户保险': 13,\n",
       "         '保险如何': 144,\n",
       "         '如何受益': 1,\n",
       "         '受益业主': 1,\n",
       "         '业主俄亥俄州': 1,\n",
       "         '俄亥俄州雇主': 1,\n",
       "         '雇主是否': 5,\n",
       "         '是否必须': 6,\n",
       "         '必须提供': 4,\n",
       "         '提供健康': 52,\n",
       "         '保险我': 150,\n",
       "         '应该有': 37,\n",
       "         '有多少': 154,\n",
       "         '多少汽车保险': 30,\n",
       "         '汽车保险为什么': 7,\n",
       "         '为什么房主': 7,\n",
       "         '保险增加': 9,\n",
       "         '增加谁': 3,\n",
       "         '谁能': 47,\n",
       "         '能买': 8,\n",
       "         '买医保': 3,\n",
       "         '医保如何': 1,\n",
       "         '如何清除': 1,\n",
       "         '清除部分': 1,\n",
       "         '部分在': 2,\n",
       "         '在什么': 26,\n",
       "         '什么年龄': 37,\n",
       "         '年龄我': 4,\n",
       "         '应该得到': 41,\n",
       "         '得到长期': 11,\n",
       "         '保险人寿保险': 80,\n",
       "         '人寿保险死亡': 3,\n",
       "         '死亡福利': 3,\n",
       "         '福利是否': 2,\n",
       "         '纳税什么': 7,\n",
       "         '是医疗': 17,\n",
       "         '医疗储蓄': 1,\n",
       "         '储蓄计划': 12,\n",
       "         '计划房主': 9,\n",
       "         '是否向': 3,\n",
       "         '向其他': 2,\n",
       "         '其他狗盖': 1,\n",
       "         '狗盖狗': 1,\n",
       "         '狗叮咬': 4,\n",
       "         '叮咬医疗保险': 1,\n",
       "         '医疗保险计划': 25,\n",
       "         '计划盖': 4,\n",
       "         '什么全': 6,\n",
       "         '全人寿保险': 142,\n",
       "         '人寿保险是': 101,\n",
       "         '是一个': 42,\n",
       "         '一个好': 35,\n",
       "         '好的': 24,\n",
       "         '的选择': 1,\n",
       "         '选择吗': 1,\n",
       "         '可以提供': 4,\n",
       "         '提供不同': 1,\n",
       "         '不同数额': 1,\n",
       "         '数额的': 1,\n",
       "         '的健康': 245,\n",
       "         '吗将来': 1,\n",
       "         '将来会': 1,\n",
       "         '会发生': 44,\n",
       "         '发生什么': 84,\n",
       "         '医疗保险一般': 2,\n",
       "         '一般人寿保险': 1,\n",
       "         '是否会': 67,\n",
       "         '会如果': 1,\n",
       "         '如果得到': 1,\n",
       "         '得到机票': 1,\n",
       "         '机票呢': 1,\n",
       "         '呢租客': 1,\n",
       "         '租客保险': 265,\n",
       "         '包括盗窃': 2,\n",
       "         '盗窃什么': 7,\n",
       "         '是租赁': 6,\n",
       "         '如何计算': 36,\n",
       "         '计算家庭': 6,\n",
       "         '保险房主': 45,\n",
       "         '覆盖下水道': 6,\n",
       "         '下水道维修': 1,\n",
       "         '维修是否': 1,\n",
       "         '是否有': 66,\n",
       "         '有长期': 7,\n",
       "         '保险短期': 5,\n",
       "         '残疾考虑': 1,\n",
       "         '考虑健康': 3,\n",
       "         '吗在': 23,\n",
       "         '年龄你': 9,\n",
       "         '你应该': 38,\n",
       "         '得到人寿保险': 98,\n",
       "         '人寿保险旅行者': 1,\n",
       "         '旅行者家庭': 1,\n",
       "         '保险好': 19,\n",
       "         '好吗': 43,\n",
       "         '吗谁': 90,\n",
       "         '能得到': 50,\n",
       "         '得到医疗保险': 16,\n",
       "         '医疗保险谁': 4,\n",
       "         '谁有': 44,\n",
       "         '有最': 26,\n",
       "         '最优惠': 7,\n",
       "         '优惠的': 7,\n",
       "         '的租金': 24,\n",
       "         '租金保险费率': 1,\n",
       "         '保险费率谁': 2,\n",
       "         '能驾驶': 5,\n",
       "         '驾驶你': 1,\n",
       "         '你的': 77,\n",
       "         '的车': 34,\n",
       "         '车在': 5,\n",
       "         '在你': 11,\n",
       "         '的保险': 116,\n",
       "         '保险医疗保险': 71,\n",
       "         '医疗保险可以': 22,\n",
       "         '可以支付': 13,\n",
       "         '支付养老院': 3,\n",
       "         '养老院吗': 1,\n",
       "         '吗如果': 38,\n",
       "         '如果汽车保险': 2,\n",
       "         '汽车保险失败': 2,\n",
       "         '失败会': 3,\n",
       "         '什么车库': 1,\n",
       "         '车库门': 3,\n",
       "         '门由': 1,\n",
       "         '由房主': 8,\n",
       "         '保险覆盖': 69,\n",
       "         '覆盖我': 26,\n",
       "         '我在': 29,\n",
       "         '在哪里': 122,\n",
       "         '哪里注册': 3,\n",
       "         '医疗保险如何': 31,\n",
       "         '如何获得': 120,\n",
       "         '获得汽车保险': 49,\n",
       "         '汽车保险最佳': 1,\n",
       "         '最佳交易': 1,\n",
       "         '交易在': 1,\n",
       "         '在新泽西州': 3,\n",
       "         '新泽西州如何': 1,\n",
       "         '如何申请': 27,\n",
       "         '申请哪家': 1,\n",
       "         '哪家公司': 4,\n",
       "         '公司提供': 10,\n",
       "         '提供最佳': 5,\n",
       "         '最佳租赁': 2,\n",
       "         '保险全': 7,\n",
       "         '人寿保险有': 48,\n",
       "         '有哪些': 12,\n",
       "         '哪些特点': 1,\n",
       "         '特点什么': 1,\n",
       "         '是年': 25,\n",
       "         '年金种': 1,\n",
       "         '金种现金流': 1,\n",
       "         '现金流可以': 1,\n",
       "         '在乳腺癌': 2,\n",
       "         '乳腺癌后': 2,\n",
       "         '后获得': 2,\n",
       "         '获得人身保险': 36,\n",
       "         '人身保险吗': 31,\n",
       "         '吗如何': 145,\n",
       "         '如何找出': 14,\n",
       "         '找出多少': 1,\n",
       "         '汽车保险呢': 1,\n",
       "         '呢如何': 2,\n",
       "         '如何计划': 19,\n",
       "         '计划退休': 29,\n",
       "         '退休与': 1,\n",
       "         '与什么': 1,\n",
       "         '是不': 8,\n",
       "         '不符合': 4,\n",
       "         '符合奥巴马': 1,\n",
       "         '奥巴马的': 5,\n",
       "         '的税收': 13,\n",
       "         '税收减免': 1,\n",
       "         '减免你': 1,\n",
       "         '你能': 107,\n",
       "         '能失去': 1,\n",
       "         '失去医疗': 1,\n",
       "         '医疗福利': 4,\n",
       "         '福利吗': 2,\n",
       "         '吗房主': 65,\n",
       "         '会损失': 1,\n",
       "         '损失钻石': 1,\n",
       "         '钻石长期': 1,\n",
       "         '多少何时': 6,\n",
       "         '何时应该': 12,\n",
       "         '应该停止': 2,\n",
       "         '停止支付': 5,\n",
       "         '支付人寿保险': 20,\n",
       "         '你去': 2,\n",
       "         '去医疗保险': 3,\n",
       "         '医疗保险什么': 27,\n",
       "         '年龄人寿保险': 1,\n",
       "         '人寿保险公司': 102,\n",
       "         '公司如何': 12,\n",
       "         '如何吸烟': 2,\n",
       "         '吸烟如何': 2,\n",
       "         '如何确定': 23,\n",
       "         '确定您': 2,\n",
       "         '您是否': 3,\n",
       "         '需要长期': 23,\n",
       "         '保险谁': 56,\n",
       "         '谁制造': 1,\n",
       "         '制造汽车保险': 1,\n",
       "         '汽车保险什么': 39,\n",
       "         '时候应该': 28,\n",
       "         '得到期限': 2,\n",
       "         '期限人寿保险': 55,\n",
       "         '人寿保险信用': 1,\n",
       "         '信用与': 1,\n",
       "         '与汽车保险': 4,\n",
       "         '汽车保险有': 21,\n",
       "         '有什么': 49,\n",
       "         '什么关系': 1,\n",
       "         '关系家庭': 1,\n",
       "         '是否支付': 58,\n",
       "         '支付屋顶': 1,\n",
       "         '屋顶更换': 2,\n",
       "         '更换谁': 1,\n",
       "         '谁拥有': 19,\n",
       "         '拥有最好': 3,\n",
       "         '最好和': 5,\n",
       "         '和最': 4,\n",
       "         '最便宜': 74,\n",
       "         '便宜的': 105,\n",
       "         '汽车保险你': 14,\n",
       "         '能租': 1,\n",
       "         '租汽车保险': 1,\n",
       "         '什么我': 63,\n",
       "         '可以为': 48,\n",
       "         '为我': 34,\n",
       "         '我母亲': 2,\n",
       "         '母亲购买': 1,\n",
       "         '购买长期': 61,\n",
       "         '是完全': 4,\n",
       "         '完全实行': 1,\n",
       "         '实行人寿保险': 3,\n",
       "         '可以得到': 127,\n",
       "         '得到高血压': 2,\n",
       "         '高血压的': 2,\n",
       "         '如何找到': 28,\n",
       "         '找到好': 3,\n",
       "         '的租客': 40,\n",
       "         '保险什么': 176,\n",
       "         '是考虑': 3,\n",
       "         '考虑用于': 1,\n",
       "         '用于保险': 1,\n",
       "         '保险目的': 2,\n",
       "         '目的的': 1,\n",
       "         '的跑车': 1,\n",
       "         '跑车家庭': 1,\n",
       "         '什么为什么': 30,\n",
       "         '为什么现在': 1,\n",
       "         '现在重新': 1,\n",
       "         '重新计划': 2,\n",
       "         '退休为什么': 2,\n",
       "         '为什么要': 119,\n",
       "         '要为': 4,\n",
       "         '为汽车保险': 9,\n",
       "         '汽车保险付钱': 1,\n",
       "         '付钱移动': 1,\n",
       "         '移动家庭': 5,\n",
       "         '如何便宜': 3,\n",
       "         '便宜可以': 1,\n",
       "         '吗多少': 9,\n",
       "         '多少人': 9,\n",
       "         '人使用': 2,\n",
       "         '使用残疾': 2,\n",
       "         '保险您': 12,\n",
       "         '您的': 88,\n",
       "         '汽车保险涵盖': 9,\n",
       "         '涵盖谁': 4,\n",
       "         '谁什么': 4,\n",
       "         '是计划': 11,\n",
       "         '计划如何': 25,\n",
       "         '如何增加': 2,\n",
       "         '增加健康': 3,\n",
       "         '保险长期': 31,\n",
       "         '长期残疾': 89,\n",
       "         '保险多久': 12,\n",
       "         '多久全': 1,\n",
       "         '人寿保险不好': 3,\n",
       "         '不好吗': 3,\n",
       "         '吗犹他州': 1,\n",
       "         '犹他州的': 2,\n",
       "         '的平均': 58,\n",
       "         '平均车险': 1,\n",
       "         '车险是': 1,\n",
       "         '多少伟大': 1,\n",
       "         '伟大的': 3,\n",
       "         '的西方': 1,\n",
       "         '西方人寿': 1,\n",
       "         '人寿是否': 15,\n",
       "         '是否涵盖': 265,\n",
       "         '涵盖旅游': 2,\n",
       "         '旅游保险': 1,\n",
       "         '保险定期': 4,\n",
       "         '定期人寿保险': 60,\n",
       "         '人寿保险在': 28,\n",
       "         '在特定': 1,\n",
       "         '特定年龄': 1,\n",
       "         '年龄结束': 1,\n",
       "         '结束吗': 3,\n",
       "         '覆盖火器': 2,\n",
       "         '火器共同': 1,\n",
       "         '共同基金': 15,\n",
       "         '基金的': 1,\n",
       "         '的资产': 3,\n",
       "         '资产净值': 2,\n",
       "         '净值是': 3,\n",
       "         '多少哪些': 3,\n",
       "         '哪些国家': 7,\n",
       "         '国家有': 11,\n",
       "         '有最好': 26,\n",
       "         '保险为什么': 74,\n",
       "         '为什么重要': 9,\n",
       "         '重要计划': 1,\n",
       "         '退休多少': 1,\n",
       "         '多少残疾': 28,\n",
       "         '保险足够': 3,\n",
       "         '足够了': 5,\n",
       "         '了骑手': 1,\n",
       "         '骑手在': 1,\n",
       "         '在人寿保险': 31,\n",
       "         '人寿保险中': 61,\n",
       "         '中意味着': 18,\n",
       "         '意味着什么': 78,\n",
       "         '什么你': 26,\n",
       "         '你为': 3,\n",
       "         '为长期': 1,\n",
       "         '保险支付': 44,\n",
       "         '支付多少': 35,\n",
       "         '多少钱': 175,\n",
       "         '钱我': 15,\n",
       "         '可以要求': 17,\n",
       "         '要求什么': 2,\n",
       "         '什么租客': 14,\n",
       "         '保险健康': 45,\n",
       "         '保险额定值': 1,\n",
       "         '额定值是': 1,\n",
       "         '多少你': 38,\n",
       "         '你如何': 54,\n",
       "         '计算人寿保险': 9,\n",
       "         '的期望': 1,\n",
       "         '期望回报': 1,\n",
       "         '回报没有': 1,\n",
       "         '没有驾照': 3,\n",
       "         '驾照吗': 4,\n",
       "         '时候是': 11,\n",
       "         '是符合': 9,\n",
       "         '符合医疗保险': 26,\n",
       "         '部分的': 12,\n",
       "         '的人': 20,\n",
       "         '人汽车保险': 1,\n",
       "         '汽车保险是': 29,\n",
       "         '是联邦': 6,\n",
       "         '联邦要求': 1,\n",
       "         '要求吗': 4,\n",
       "         '吗你': 120,\n",
       "         '得到不良': 5,\n",
       "         '不良信用': 6,\n",
       "         '信用的': 6,\n",
       "         '吗适用': 1,\n",
       "         '适用于': 19,\n",
       "         '于人寿保险': 9,\n",
       "         '公司吗': 9,\n",
       "         '吗后': 1,\n",
       "         '后汽车': 1,\n",
       "         '汽车保险费用': 46,\n",
       "         '多少购买': 2,\n",
       "         '购买家庭': 6,\n",
       "         '家庭时': 1,\n",
       "         '时多少': 1,\n",
       "         '多少保险': 52,\n",
       "         '是政策': 4,\n",
       "         '政策租客': 2,\n",
       "         '涵盖失去': 1,\n",
       "         '的订婚戒指': 4,\n",
       "         '订婚戒指覆盖全国': 1,\n",
       "         '覆盖全国租赁': 1,\n",
       "         '保险多少': 75,\n",
       "         '多少谁': 28,\n",
       "         '谁卖出': 1,\n",
       "         '卖出抵押': 1,\n",
       "         '抵押人寿保险': 5,\n",
       "         '人寿保险是否': 245,\n",
       "         '覆盖跳伞': 2,\n",
       "         '跳伞健康': 1,\n",
       "         '覆盖皮肤': 1,\n",
       "         '皮肤清除': 1,\n",
       "         '清除手术': 1,\n",
       "         '手术没有': 2,\n",
       "         '的皮肤科': 1,\n",
       "         '皮肤科医生': 1,\n",
       "         '医生花费': 1,\n",
       "         '花费多少': 11,\n",
       "         '钱在': 2,\n",
       "         '哪里得到': 15,\n",
       "         '得到健康': 24,\n",
       "         '保险与': 50,\n",
       "         '与预先': 2,\n",
       "         '预先存在': 6,\n",
       "         '存在的': 5,\n",
       "         '的条件': 10,\n",
       "         '条件是否': 2,\n",
       "         '是否卖': 2,\n",
       "         '卖人寿保险': 11,\n",
       "         '人寿保险联邦政府': 1,\n",
       "         '联邦政府是否': 5,\n",
       "         '有残疾': 15,\n",
       "         '是人寿保险': 128,\n",
       "         '人寿保险股': 1,\n",
       "         '股残疾人': 1,\n",
       "         '残疾人保险': 8,\n",
       "         '保险在': 79,\n",
       "         '在平均水平': 1,\n",
       "         '平均水平上': 1,\n",
       "         '上有': 2,\n",
       "         '多大': 12,\n",
       "         '大你': 1,\n",
       "         '可以提交': 1,\n",
       "         '提交人寿保险': 2,\n",
       "         '是否考虑': 12,\n",
       "         '考虑收入': 2,\n",
       "         '收入什么': 3,\n",
       "         '得到残疾': 29,\n",
       "         '保险租金': 13,\n",
       "         '租金保险费用': 11,\n",
       "         '多少新罕布什尔州': 1,\n",
       "         '新罕布什尔州是否': 1,\n",
       "         '需要汽车保险': 18,\n",
       "         '汽车保险您': 2,\n",
       "         '的工资': 1,\n",
       "         '工资有': 1,\n",
       "         '多少由': 1,\n",
       "         '由残疾': 1,\n",
       "         '保险承担': 1,\n",
       "         '承担哪个': 1,\n",
       "         '哪个药店': 1,\n",
       "         '药店接受': 1,\n",
       "         '接受医疗保险': 11,\n",
       "         '医疗保险需要': 12,\n",
       "         '多长时间才能': 28,\n",
       "         '才能获得': 26,\n",
       "         '是医疗保险': 71,\n",
       "         '确定期限': 1,\n",
       "         '现金价值': 64,\n",
       "         '价值人寿保险': 7,\n",
       "         '人寿保险为': 5,\n",
       "         '为您': 6,\n",
       "         '的葬礼': 1,\n",
       "         '葬礼付钱': 1,\n",
       "         '付钱吗': 9,\n",
       "         '保险可以': 50,\n",
       "         '可以让': 20,\n",
       "         '让孩子': 1,\n",
       "         '孩子多久': 3,\n",
       "         '多久健康': 2,\n",
       "         '保险税': 2,\n",
       "         '税何时': 2,\n",
       "         '何时可以': 29,\n",
       "         '可以扣除': 58,\n",
       "         '扣除对': 1,\n",
       "         '对可变': 2,\n",
       "         '可变年金': 20,\n",
       "         '年金说': 3,\n",
       "         '说什么': 5,\n",
       "         '什么可以': 13,\n",
       "         '用支付': 4,\n",
       "         '支付健康': 30,\n",
       "         '吗沃尔玛': 2,\n",
       "         '沃尔玛是否': 3,\n",
       "         '是否接受': 2,\n",
       "         '医疗保险汽车保险': 2,\n",
       "         '汽车保险可以': 14,\n",
       "         '可以转移': 11,\n",
       "         '转移吗': 3,\n",
       "         '是保险': 20,\n",
       "         '保险没有': 7,\n",
       "         '没有工作': 11,\n",
       "         '工作可以': 4,\n",
       "         '得到汽车保险': 29,\n",
       "         '你经常': 2,\n",
       "         '经常支付': 2,\n",
       "         '吗受益人': 1,\n",
       "         '受益人何时': 2,\n",
       "         '何时收到': 1,\n",
       "         '收到人寿保险': 3,\n",
       "         '人寿保险如果': 16,\n",
       "         '如果我': 134,\n",
       "         '我没有': 18,\n",
       "         '没有汽车保险': 21,\n",
       "         '汽车保险我': 29,\n",
       "         '可以租车': 2,\n",
       "         '租车吗': 6,\n",
       "         '吗医疗保险': 108,\n",
       "         '支付救护车': 1,\n",
       "         '救护车吗': 1,\n",
       "         '吗何时': 30,\n",
       "         '何时需要': 12,\n",
       "         '需要家庭': 10,\n",
       "         '家庭保修': 3,\n",
       "         '保修保险': 3,\n",
       "         '保险家庭': 20,\n",
       "         '覆盖您': 4,\n",
       "         '的烟囱': 1,\n",
       "         '烟囱我': 1,\n",
       "         '需要多少': 91,\n",
       "         '多少人寿保险': 117,\n",
       "         '人寿保险财产保险': 1,\n",
       "         '财产保险与': 1,\n",
       "         '与房主': 9,\n",
       "         '保险相同': 11,\n",
       "         '相同吗': 28,\n",
       "         '吗当': 18,\n",
       "         '当你': 27,\n",
       "         '你年轻': 2,\n",
       "         '年轻时': 2,\n",
       "         '时人寿保险': 5,\n",
       "         '是否更': 6,\n",
       "         '更便宜': 15,\n",
       "         '便宜是否': 1,\n",
       "         '是否提供': 50,\n",
       "         '提供短期': 7,\n",
       "         '残疾是否': 2,\n",
       "         '涵盖医疗保险': 3,\n",
       "         '医疗保险失去': 1,\n",
       "         '失去使用': 3,\n",
       "         '使用意味着': 3,\n",
       "         '是房主': 19,\n",
       "         '保险汽车保险': 47,\n",
       "         '是否在': 35,\n",
       "         '在您': 6,\n",
       "         '的信用': 16,\n",
       "         '信用报告': 2,\n",
       "         '报告上': 1,\n",
       "         '上如何': 2,\n",
       "         '如何驾驶': 2,\n",
       "         '驾驶没有': 7,\n",
       "         '新车为什么': 1,\n",
       "         '为什么汽车保险': 15,\n",
       "         '汽车保险在': 45,\n",
       "         '在俄亥俄州': 16,\n",
       "         '俄亥俄州那么': 1,\n",
       "         '那么昂贵': 1,\n",
       "         '昂贵我': 3,\n",
       "         '需要南卡罗来纳州': 1,\n",
       "         '南卡罗来纳州的': 2,\n",
       "         '的残疾': 36,\n",
       "         '吗一个': 10,\n",
       "         '一个公寓': 3,\n",
       "         '公寓大楼': 2,\n",
       "         '大楼可否': 1,\n",
       "         '可否要求': 5,\n",
       "         '要求您': 1,\n",
       "         '您将': 1,\n",
       "         '将其': 2,\n",
       "         '其作为': 1,\n",
       "         '作为您': 1,\n",
       "         '的共同': 3,\n",
       "         '共同保单': 1,\n",
       "         '保单持有人': 3,\n",
       "         '持有人什么': 1,\n",
       "         '医疗保险要花费': 1,\n",
       "         '要花费我': 1,\n",
       "         '我被': 8,\n",
       "         '被医疗保险': 4,\n",
       "         '部分覆盖': 13,\n",
       "         '覆盖的': 23,\n",
       "         '的是': 9,\n",
       "         '是吗': 10,\n",
       "         '平均成本': 42,\n",
       "         '多少医疗保险': 36,\n",
       "         '钱医疗保险': 9,\n",
       "         '医疗保险和': 24,\n",
       "         '和医疗': 12,\n",
       "         '医疗补助金': 4,\n",
       "         '补助金有': 1,\n",
       "         '什么区别': 9,\n",
       "         '区别人寿保险': 1,\n",
       "         '人寿保险支付': 27,\n",
       "         '多少为什么': 28,\n",
       "         '为什么需要': 19,\n",
       "         '需要残疾': 20,\n",
       "         '何时成为': 6,\n",
       "         '成为强制性': 2,\n",
       "         '强制性结婚': 1,\n",
       "         '结婚影响': 3,\n",
       "         '影响汽车保险': 28,\n",
       "         '汽车保险医疗保险': 7,\n",
       "         '医疗保险费用': 9,\n",
       "         '费用会': 3,\n",
       "         '会在': 7,\n",
       "         '在年': 25,\n",
       "         '年上涨': 2,\n",
       "         '上涨吗': 17,\n",
       "         '吗汽车保险': 61,\n",
       "         '汽车保险多久': 4,\n",
       "         '多久家庭': 2,\n",
       "         '可以保险金': 1,\n",
       "         '保险金从': 1,\n",
       "         '从汽车': 3,\n",
       "         '汽车事故': 11,\n",
       "         '事故吗': 1,\n",
       "         '可以去': 13,\n",
       "         '去没有': 6,\n",
       "         '汽车保险的': 35,\n",
       "         '的监狱': 4,\n",
       "         '监狱吗': 4,\n",
       "         '吗您': 10,\n",
       "         '可以作为': 5,\n",
       "         '作为房地产': 1,\n",
       "         '房地产经纪人': 1,\n",
       "         '经纪人获得': 1,\n",
       "         '获得健康': 79,\n",
       "         '时候开放注册': 1,\n",
       "         '开放注册政策': 1,\n",
       "         '政策何时': 10,\n",
       "         '何时使用': 5,\n",
       "         '使用医疗保险': 3,\n",
       "         '医疗保险有限责任': 1,\n",
       "         '有限责任公司': 4,\n",
       "         '公司有': 18,\n",
       "         '有退休': 2,\n",
       "         '计划吗': 48,\n",
       "         '吗福特': 1,\n",
       "         '福特野马': 1,\n",
       "         '野马的': 1,\n",
       "         '的汽车': 65,\n",
       "         '保险会': 21,\n",
       "         '会覆盖': 37,\n",
       "         '的车上': 6,\n",
       "         '车上的': 6,\n",
       "         '的一棵树': 1,\n",
       "         '一棵树吗': 1,\n",
       "         '人寿保险政策': 95,\n",
       "         '政策的': 27,\n",
       "         '的面值': 5,\n",
       "         '面值是': 5,\n",
       "         '是安联': 1,\n",
       "         '安联人寿保险': 1,\n",
       "         '人寿保险人寿保险': 35,\n",
       "         '现金投降': 8,\n",
       "         '投降价值': 14,\n",
       "         '价值是': 24,\n",
       "         '多少租客': 11,\n",
       "         '是否盖': 4,\n",
       "         '盖车库': 3,\n",
       "         '车库盗窃': 2,\n",
       "         '盗窃高': 1,\n",
       "         '高胆固醇': 4,\n",
       "         '胆固醇是否': 3,\n",
       "         '影响人寿保险': 20,\n",
       "         '人寿保险费率': 17,\n",
       "         '费率医疗保险': 2,\n",
       "         '支付疼痛': 1,\n",
       "         '疼痛泵': 1,\n",
       "         '泵什么': 1,\n",
       "         '人寿保险类型': 9,\n",
       "         '类型国家': 1,\n",
       "         '国家农场': 24,\n",
       "         '农场寿险': 1,\n",
       "         '寿险对': 1,\n",
       "         '对进行': 1,\n",
       "         '进行测试': 2,\n",
       "         '测试哪里': 1,\n",
       "         '哪里可以': 93,\n",
       "         '为个人': 2,\n",
       "         '个人购买': 2,\n",
       "         '购买健康': 32,\n",
       "         '可以从': 68,\n",
       "         '从医疗保险': 9,\n",
       "         '医疗保险优势': 40,\n",
       "         '优势计划': 22,\n",
       "         '计划中': 18,\n",
       "         '中消失': 2,\n",
       "         '消失人寿保险': 1,\n",
       "         '人寿保险去': 3,\n",
       "         '去财产': 2,\n",
       "         '财产租客': 1,\n",
       "         '涵盖啮齿动物': 1,\n",
       "         '啮齿动物损伤': 1,\n",
       "         '损伤当': 1,\n",
       "         '当我': 16,\n",
       "         '从我': 16,\n",
       "         '的提款': 1,\n",
       "         '提款公寓': 1,\n",
       "         '公寓可以': 5,\n",
       "         '让你': 11,\n",
       "         '你有': 44,\n",
       "         '吗是否': 23,\n",
       "         '覆盖眼睛': 3,\n",
       "         '眼睛检查': 3,\n",
       "         '检查哪里': 1,\n",
       "         '哪里最好': 2,\n",
       "         '的地方': 5,\n",
       "         '地方得到': 1,\n",
       "         '得到房主': 3,\n",
       "         '房主的': 27,\n",
       "         '人寿保险期满': 3,\n",
       "         '期满是': 2,\n",
       "         '什么意思': 79,\n",
       "         '意思租客': 1,\n",
       "         '覆盖踏板车': 1,\n",
       "         '踏板车房主': 1,\n",
       "         '会包裹': 1,\n",
       "         '包裹食物': 1,\n",
       "         '食物家庭': 1,\n",
       "         '覆盖火灾': 3,\n",
       "         '火灾当': 1,\n",
       "         '你退出': 2,\n",
       "         '退出工作': 5,\n",
       "         '工作时': 5,\n",
       "         '时健康': 4,\n",
       "         '保险停止': 1,\n",
       "         '停止吗': 1,\n",
       "         '可以购买': 23,\n",
       "         '购买停车': 1,\n",
       "         '停车许可证': 1,\n",
       "         '许可证的': 6,\n",
       "         '吗为什么': 102,\n",
       "         '为什么人寿保险': 29,\n",
       "         '人寿保险成本': 5,\n",
       "         '成本更高': 2,\n",
       "         '更高人寿': 1,\n",
       "         '人寿养老': 1,\n",
       "         '养老计划': 1,\n",
       "         '计划是': 39,\n",
       "         '什么老年人': 2,\n",
       "         '老年人的': 4,\n",
       "         '人寿保险费用': 53,\n",
       "         '费用多少': 67,\n",
       "         '使用您': 1,\n",
       "         '涵盖基金会': 1,\n",
       "         '基金会问题': 2,\n",
       "         '问题当': 1,\n",
       "         '我取消': 9,\n",
       "         '取消人寿保险': 19,\n",
       "         '人寿保险时会': 7,\n",
       "         '时会发生': 30,\n",
       "         '什么如果': 19,\n",
       "         '政策会': 2,\n",
       "         '什么残疾人': 1,\n",
       "         '如何必要': 1,\n",
       "         '必要什么': 1,\n",
       "         '人寿保险如何': 121,\n",
       "         '如何支付': 23,\n",
       "         '租金保险': 214,\n",
       "         '保险不': 6,\n",
       "         '不包括': 13,\n",
       "         '包括什么': 21,\n",
       "         '什么人寿保险': 43,\n",
       "         '人寿保险何时': 26,\n",
       "         '何时进入': 2,\n",
       "         '进入什么': 1,\n",
       "         '是没有': 10,\n",
       "         '的罚款': 7,\n",
       "         '罚款租客': 1,\n",
       "         '的车库': 1,\n",
       "         ...})"
      ]
     },
     "execution_count": 138,
     "metadata": {},
     "output_type": "execute_result"
    }
   ],
   "source": [
    "ct_2."
   ]
  },
  {
   "cell_type": "code",
   "execution_count": 161,
   "metadata": {},
   "outputs": [],
   "source": [
    "insurance = '''\n",
    "question = 人称 问词 谓词 种类 保险吗？\n",
    "人称 = 我|你\n",
    "问词 = 需要|应该|如何\n",
    "谓词 = 购买|缴纳|null\n",
    "种类 = 商业|健康|医疗|汽车\n",
    "'''"
   ]
  },
  {
   "cell_type": "code",
   "execution_count": 165,
   "metadata": {},
   "outputs": [],
   "source": [
    "def create_rule(rule_str, line_split='\\n', stmt_split='=', expr_split='|'):\n",
    "    new_rule = dict()\n",
    "    for line in rule_str.split(line_split):\n",
    "        if not line: continue\n",
    "        stmt, expr = line.split(stmt_split)\n",
    "        new_rule[stmt.strip()] = expr.strip().split(expr_split)\n",
    "    return new_rule"
   ]
  },
  {
   "cell_type": "code",
   "execution_count": 166,
   "metadata": {},
   "outputs": [
    {
     "data": {
      "text/plain": [
       "{'question': ['人称 问词 谓词 种类 保险吗？'],\n",
       " '人称': ['我', '你'],\n",
       " '问词': ['需要', '应该', '如何'],\n",
       " '谓词': ['购买', '缴纳', 'null'],\n",
       " '种类': ['商业', '健康', '医疗', '汽车']}"
      ]
     },
     "execution_count": 166,
     "metadata": {},
     "output_type": "execute_result"
    }
   ],
   "source": [
    "create_rule(insurance)"
   ]
  },
  {
   "cell_type": "code",
   "execution_count": 174,
   "metadata": {},
   "outputs": [],
   "source": [
    "def generate(new_rule, target):\n",
    "    if target in new_rule:\n",
    "        candidates = new_rule[target]\n",
    "        candidate = random.choice(candidates)\n",
    "        candidate = candidate.split(' ')\n",
    "        return ''.join(generate(new_rule, c) for c in candidate if c != 'null') \n",
    "    return ''.join(target)"
   ]
  },
  {
   "cell_type": "code",
   "execution_count": 176,
   "metadata": {},
   "outputs": [
    {
     "data": {
      "text/plain": [
       "'你需要医疗保险吗？'"
      ]
     },
     "execution_count": 176,
     "metadata": {},
     "output_type": "execute_result"
    }
   ],
   "source": [
    "generate(create_rule(insurance), 'question')"
   ]
  },
  {
   "cell_type": "code",
   "execution_count": 177,
   "metadata": {},
   "outputs": [],
   "source": [
    "def generage_n(n):\n",
    "    sentences = []\n",
    "    for i in range(n):\n",
    "        sentences.append(generate(create_rule(insurance), 'question'))\n",
    "    return sentences"
   ]
  },
  {
   "cell_type": "code",
   "execution_count": 179,
   "metadata": {},
   "outputs": [],
   "source": [
    "test = generage_n(10)"
   ]
  },
  {
   "cell_type": "code",
   "execution_count": 182,
   "metadata": {},
   "outputs": [],
   "source": [
    "def generate_best(sentences):\n",
    "    score_list = []\n",
    "    for i in sentences:\n",
    "        score_list.append((i, n_gram_model(i)))\n",
    "    return sorted(score_list, key=lambda x: x[1], reverse=True)[0][0]"
   ]
  },
  {
   "cell_type": "code",
   "execution_count": 183,
   "metadata": {},
   "outputs": [
    {
     "data": {
      "text/plain": [
       "'我需要医疗保险吗？'"
      ]
     },
     "execution_count": 183,
     "metadata": {},
     "output_type": "execute_result"
    }
   ],
   "source": [
    "generate_best(test)"
   ]
  },
  {
   "cell_type": "code",
   "execution_count": null,
   "metadata": {},
   "outputs": [],
   "source": []
  }
 ],
 "metadata": {
  "kernelspec": {
   "display_name": "Python 3",
   "language": "python",
   "name": "python3"
  },
  "language_info": {
   "codemirror_mode": {
    "name": "ipython",
    "version": 3
   },
   "file_extension": ".py",
   "mimetype": "text/x-python",
   "name": "python",
   "nbconvert_exporter": "python",
   "pygments_lexer": "ipython3",
   "version": "3.7.2"
  }
 },
 "nbformat": 4,
 "nbformat_minor": 2
}
